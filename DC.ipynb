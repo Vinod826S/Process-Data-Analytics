{
  "nbformat": 4,
  "nbformat_minor": 0,
  "metadata": {
    "colab": {
      "provenance": [],
      "authorship_tag": "ABX9TyNATvBQh+Cdvug2/iXrnh6d",
      "include_colab_link": true
    },
    "kernelspec": {
      "name": "python3",
      "display_name": "Python 3"
    },
    "language_info": {
      "name": "python"
    }
  },
  "cells": [
    {
      "cell_type": "markdown",
      "metadata": {
        "id": "view-in-github",
        "colab_type": "text"
      },
      "source": [
        "<a href=\"https://colab.research.google.com/github/Vinod826S/Process-Data-Analytics/blob/main/DC.ipynb\" target=\"_parent\"><img src=\"https://colab.research.google.com/assets/colab-badge.svg\" alt=\"Open In Colab\"/></a>"
      ]
    },
    {
      "cell_type": "code",
      "source": [
        "import os\n",
        "import numpy\n",
        "import cvxpy as cp\n",
        "\n",
        "np.random.seed(42)\n",
        "\n",
        "os.system('cls')\n",
        "\n",
        "N = 6        # No of variables\n",
        "samp = 100  # Total no of samples\n",
        "\n",
        "A=numpy.zeros([N,N])\n",
        "\n",
        "# Row1\n",
        "A[0,0] = 14.47; A[0,1] = 4.8; A[0,4] = 3.9;\n",
        "# Row2\n",
        "A[1,0] = 4.8;A[1,1] = 8.47; A[1,2] = 1.75; A[1,3] = 6;\n",
        "# Row3\n",
        "A[2,1] = 1.75; A[2,2] = 10.47; A[2,5] = 3.4;\n",
        "# Row4\n",
        "A[3,1] = 6; A[3,3] = 11.47; A[3,4] = 3.8; A[3,5] = 1.9;\n",
        "# Row5\n",
        "A[4,0] = 3.9; A[4,3] = 3.8; A[4,4] = 7.45;\n",
        "# Row6\n",
        "A[5,2] = 3.4; A[5,3] = 1.9; A[5,5] = 12.42;\n",
        "\n",
        "d, m1s = numpy.linalg.eig(A)\n",
        "\n",
        "if (numpy.min(d) < 0):\n",
        "    A = A + 1.1*abs(numpy.min(d)*numpy.identity(N))\n",
        "\n",
        "A1 = numpy.linalg.inv(A)\n",
        "\n",
        "# Data generation\n",
        "D_data = numpy.random.multivariate_normal(numpy.zeros(N), A1, samp); # Data\n",
        "\n",
        "S = numpy.cov(numpy.matrix.transpose(D_data))\n",
        "\n",
        "X_i=numpy.diag(numpy.diag(A1))  # Initial guess\n",
        "s_def = 17                        # Sparsity index\n",
        "eit = 10                          # Max no of iterations\n",
        "\n",
        "\n",
        "Theta = cp.Variable(shape = (N,N), PSD=True)\n",
        "obj2 = cp.Maximize(cp.log_det(Theta) - cp.trace(Theta @ S) + alpha * cp.norm(Theta, 'fro'))\n",
        "alpha = -0.1 #Regularization factor\n",
        "\n",
        "prob = cp.Problem(obj2)\n",
        "prob.solve()\n",
        "if prob.status != cp.OPTIMAL:\n",
        "    raise Exception('CVXPY Error')"
      ],
      "metadata": {
        "id": "zI88j0W8-DbT"
      },
      "execution_count": null,
      "outputs": []
    },
    {
      "cell_type": "code",
      "source": [
        "import numpy as np\n",
        "\n",
        "rounded_values = np.round(Theta.value, 3)\n",
        "rounded_values[rounded_values < 0.5] = 0 #Threshold = 0.5\n",
        "print(\"Theta\\n\\n\", rounded_values, \"\\n\\n\\nOriginal Theta\\n\\n\", A)"
      ],
      "metadata": {
        "colab": {
          "base_uri": "https://localhost:8080/"
        },
        "id": "SnADQyMaNxeZ",
        "outputId": "14fb9b09-ada4-4f0f-a9dd-dc34e52c886c"
      },
      "execution_count": null,
      "outputs": [
        {
          "output_type": "stream",
          "name": "stdout",
          "text": [
            "Theta\n",
            "\n",
            " [[8.224 2.13  0.    0.    1.331 0.   ]\n",
            " [2.13  5.649 0.764 3.121 0.    0.   ]\n",
            " [0.    0.764 7.947 0.    0.    0.542]\n",
            " [0.    3.121 0.    6.494 1.655 0.517]\n",
            " [1.331 0.    0.    1.655 4.737 0.   ]\n",
            " [0.    0.    0.542 0.517 0.    7.578]] \n",
            "\n",
            "\n",
            "Original Theta\n",
            "\n",
            " [[14.47  4.8   0.    0.    3.9   0.  ]\n",
            " [ 4.8   8.47  1.75  6.    0.    0.  ]\n",
            " [ 0.    1.75 10.47  0.    0.    3.4 ]\n",
            " [ 0.    6.    0.   11.47  3.8   1.9 ]\n",
            " [ 3.9   0.    0.    3.8   7.45  0.  ]\n",
            " [ 0.    0.    3.4   1.9   0.   12.42]]\n"
          ]
        }
      ]
    }
  ]
}